{
 "cells": [
  {
   "cell_type": "markdown",
   "metadata": {
    "id": "oXlcl8lqBgAD"
   },
   "source": [
    "# Neural Style Transfer"
   ]
  },
  {
   "cell_type": "markdown",
   "metadata": {},
   "source": [
    "```\n",
    "Credits:\n",
    "```\n",
    "Fast Style Transfer is a Neural Style Transfer approach to stylize an image based on an arbitrary image/painting.\n",
    "<br>\n",
    "Reference: [Magenta (by Google)](https://github.com/tensorflow/magenta/tree/master/magenta/models/arbitrary_image_stylization) and the publication:\n",
    "[Exploring the structure of a real-time, arbitrary neural artistic stylization\n",
    "network](https://arxiv.org/abs/1705.06830)"
   ]
  },
  {
   "cell_type": "markdown",
   "metadata": {},
   "source": [
    "```\n",
    "Objective:\n",
    "```\n",
    "The idea is to take a rough sketch of a new interior and apply the style corresponding to an already existing project (Eg: An already existing/completed interior design). As a result, the style of the existing interior shall be applied on the rough sketch "
   ]
  },
  {
   "cell_type": "markdown",
   "metadata": {},
   "source": [
    "```\n",
    "Approach:\n",
    "```\n",
    "A [pre-trained model available in Tensorflow Hub](https://tfhub.dev/google/magenta/arbitrary-image-stylization-v1-256/2) is leveraged in this notebook"
   ]
  },
  {
   "cell_type": "markdown",
   "metadata": {
    "id": "TaM8BVxrCA2E"
   },
   "source": [
    "## Setup"
   ]
  },
  {
   "cell_type": "markdown",
   "metadata": {
    "id": "J65jog2ncJzt"
   },
   "source": [
    "Import of Tensorflow and all relevant dependencies"
   ]
  },
  {
   "cell_type": "code",
   "execution_count": 6,
   "metadata": {
    "execution": {
     "iopub.execute_input": "2022-04-27T12:47:57.143838Z",
     "iopub.status.busy": "2022-04-27T12:47:57.143450Z",
     "iopub.status.idle": "2022-04-27T12:47:59.553641Z",
     "shell.execute_reply": "2022-04-27T12:47:59.553034Z"
    },
    "id": "v-KXRY5XBu2u"
   },
   "outputs": [
    {
     "name": "stdout",
     "output_type": "stream",
     "text": [
      "TF Version:  2.10.0\n",
      "TF Hub version:  0.12.0\n",
      "Eager mode enabled:  True\n",
      "GPU available:  [PhysicalDevice(name='/physical_device:GPU:0', device_type='GPU')]\n"
     ]
    }
   ],
   "source": [
    "import functools\n",
    "import os\n",
    "import cv2\n",
    "\n",
    "from matplotlib import gridspec\n",
    "import matplotlib.pylab as plt\n",
    "import numpy as np\n",
    "import tensorflow as tf\n",
    "import tensorflow_hub as hub\n",
    "\n",
    "print(\"TF Version: \", tf.__version__)\n",
    "print(\"TF Hub version: \", hub.__version__)\n",
    "print(\"Eager mode enabled: \", tf.executing_eagerly())\n",
    "print(\"GPU available: \", tf.config.list_physical_devices('GPU'))"
   ]
  },
  {
   "cell_type": "markdown",
   "metadata": {},
   "source": [
    "## Constants"
   ]
  },
  {
   "cell_type": "code",
   "execution_count": 7,
   "metadata": {},
   "outputs": [],
   "source": [
    "MODEL_URL = 'https://tfhub.dev/google/magenta/arbitrary-image-stylization-v1-256/2'\n",
    "INPUT_DIR = './input/'\n",
    "OUTPUT_DIR = './output/'\n",
    "SKETCHES_DIR = INPUT_DIR+'sketches/'\n",
    "STYLES_DIR = INPUT_DIR+'styles/'"
   ]
  },
  {
   "cell_type": "markdown",
   "metadata": {},
   "source": [
    "## Reusable Functions"
   ]
  },
  {
   "cell_type": "code",
   "execution_count": 8,
   "metadata": {},
   "outputs": [],
   "source": [
    "def saveNShowImages(images, titles=('',), saveURL=None, show=False):\n",
    "    n = len(images)\n",
    "    image_sizes = [image.shape[1] for image in images]\n",
    "    w = (image_sizes[0] * 6) // 320\n",
    "    plt.figure(figsize=(w * n, w))\n",
    "    gs = gridspec.GridSpec(1, n, width_ratios=image_sizes)\n",
    "    for i in range(n):\n",
    "        image = images[i][0]\n",
    "        plt.subplot(gs[i])\n",
    "        plt.imshow(image, aspect='equal')\n",
    "        plt.axis('off')\n",
    "        plt.title(titles[i] if len(titles) > i else '')\n",
    "    if saveURL != None:\n",
    "        plt.savefig(saveURL)\n",
    "    if show == True:\n",
    "        plt.show()\n",
    "    plt.close()\n",
    "\n",
    "def readImages(cnURL, stURL, cnSize=512, stSize=1024):\n",
    "    cn1 = tf.io.read_file(cnURL)\n",
    "    cn2 = tf.io.decode_image(cn1, channels=3, dtype=tf.float32)\n",
    "    cn3 = cn2[tf.newaxis, ...]\n",
    "    cn4 = tf.image.resize(cn3, (cnSize, cnSize), preserve_aspect_ratio=True)\n",
    "\n",
    "    st1 = tf.io.read_file(stURL)\n",
    "    st2 = tf.io.decode_image(st1, channels=3, dtype=tf.float32)\n",
    "    st3 = st2[tf.newaxis, ...]\n",
    "    st4 = tf.image.resize(st3, (stSize, stSize), preserve_aspect_ratio=True)\n",
    "    st5 = tf.nn.avg_pool(st4, ksize=[3,3], strides=[1,1], padding='SAME')    \n",
    "\n",
    "    return cn4, st5 "
   ]
  },
  {
   "cell_type": "markdown",
   "metadata": {},
   "source": [
    "## Pre-trained Hub Model"
   ]
  },
  {
   "cell_type": "code",
   "execution_count": 9,
   "metadata": {},
   "outputs": [],
   "source": [
    "# Load the pre-trained model from TF Hub\n",
    "hub_module = hub.load(handle=MODEL_URL)"
   ]
  },
  {
   "cell_type": "markdown",
   "metadata": {
    "id": "qEhYJno1R7rP"
   },
   "source": [
    "## Image Stylization"
   ]
  },
  {
   "cell_type": "code",
   "execution_count": 10,
   "metadata": {},
   "outputs": [],
   "source": [
    "sketch_files = os.listdir(SKETCHES_DIR)\n",
    "style_files = os.listdir(STYLES_DIR)\n",
    "for sketch_file in sketch_files:\n",
    "    for style_file in style_files:\n",
    "        content_image, style_image = readImages(SKETCHES_DIR+sketch_file, STYLES_DIR+style_file)\n",
    "        outputs = hub_module(tf.constant(content_image), tf.constant(style_image))\n",
    "        content_image = tf.image.resize(content_image, (512,512), preserve_aspect_ratio=True)\n",
    "        style_image = tf.image.resize(style_image, (512,512), preserve_aspect_ratio=True)\n",
    "        output_image = tf.image.resize(outputs[0], (512,512), preserve_aspect_ratio=True)\n",
    "        saveURL = OUTPUT_DIR+sketch_file[:-4]+style_file\n",
    "        saveNShowImages([content_image, style_image, output_image], titles=['Original content image', 'Style image', 'Stylized image'], saveURL=saveURL)\n"
   ]
  }
 ],
 "metadata": {
  "accelerator": "GPU",
  "colab": {
   "collapsed_sections": [],
   "name": "TF-Hub: Fast Style Transfer for Arbitrary Styles.ipynb",
   "private_outputs": true,
   "provenance": [],
   "toc_visible": true
  },
  "kernelspec": {
   "display_name": "Python 3.8.10 64-bit",
   "language": "python",
   "name": "python3"
  },
  "language_info": {
   "codemirror_mode": {
    "name": "ipython",
    "version": 3
   },
   "file_extension": ".py",
   "mimetype": "text/x-python",
   "name": "python",
   "nbconvert_exporter": "python",
   "pygments_lexer": "ipython3",
   "version": "3.8.10"
  },
  "vscode": {
   "interpreter": {
    "hash": "916dbcbb3f70747c44a77c7bcd40155683ae19c65e1c03b4aa3499c5328201f1"
   }
  }
 },
 "nbformat": 4,
 "nbformat_minor": 0
}
